{
 "cells": [
  {
   "cell_type": "markdown",
   "metadata": {},
   "source": [
    "# ML Notebook"
   ]
  },
  {
   "cell_type": "code",
   "execution_count": 148,
   "metadata": {},
   "outputs": [],
   "source": [
    "import pandas as pd\n",
    "import numpy as np\n",
    "from sklearn.model_selection import train_test_split\n",
    "from sklearn.linear_model import LinearRegression\n",
    "from sklearn.metrics import mean_squared_error\n",
    "from sklearn.ensemble import RandomForestRegressor\n",
    "from sklearn.preprocessing import LabelEncoder"
   ]
  },
  {
   "cell_type": "code",
   "execution_count": 149,
   "metadata": {},
   "outputs": [],
   "source": [
    "df = pd.read_csv('db/vw/jetta.csv')\n",
    "df = df.dropna(subset=['year', 'range'])"
   ]
  },
  {
   "cell_type": "code",
   "execution_count": 150,
   "metadata": {
    "vscode": {
     "languageId": "ruby"
    }
   },
   "outputs": [],
   "source": [
    "df_cleaned = df.drop_duplicates()\n",
    "\n",
    "df_cleaned['date'] = pd.to_datetime(df_cleaned['date'])\n",
    "df_cleaned['year'] = df_cleaned['year'].astype(int)\n",
    "df_cleaned['hp'] = df_cleaned['hp'].astype(int)\n",
    "df_cleaned['range'] = df_cleaned['range'].astype(int)\n",
    "df_cleaned['kp'] = df_cleaned['kp'].astype(int)\n",
    "df_cleaned['dtp'] = df_cleaned['dtp'].astype(int)\n",
    "df_cleaned['subtitle'] = df_cleaned['subtitle'].astype(str)"
   ]
  },
  {
   "cell_type": "code",
   "execution_count": 151,
   "metadata": {
    "vscode": {
     "languageId": "ruby"
    }
   },
   "outputs": [
    {
     "name": "stderr",
     "output_type": "stream",
     "text": [
      "/var/folders/yq/q4fjnmv94bsfndzg35qh36qm0000gn/T/ipykernel_45748/2654228636.py:3: FutureWarning: Setting an item of incompatible dtype is deprecated and will raise an error in a future version of pandas. Value '68.44671623296159' has dtype incompatible with int64, please explicitly cast to a compatible dtype first.\n",
      "  df_cleaned.loc[df_cleaned['hp'] == -1, 'hp'] = df_cleaned['hp'].mean()\n"
     ]
    }
   ],
   "source": [
    "df_cleaned = df_cleaned[df_cleaned['year'] >= 2004]\n",
    "df_cleaned.loc[df_cleaned['kp'] == -1, 'kp'] = 0\n",
    "df_cleaned.loc[df_cleaned['hp'] == -1, 'hp'] = df_cleaned['hp'].mean()"
   ]
  },
  {
   "cell_type": "code",
   "execution_count": 152,
   "metadata": {},
   "outputs": [],
   "source": [
    "def split_subtitle(subtitle):\n",
    "  return subtitle.split('•')[0]\n",
    "\n",
    "df_cleaned['new_subtitle1'] = df_cleaned['subtitle'].apply(split_subtitle)\n",
    "df_cleaned['new_subtitle1'] = df_cleaned['new_subtitle1'].str.strip()\n",
    "\n",
    "df_cleaned = df_cleaned[df_cleaned['new_subtitle1'].map(df_cleaned['new_subtitle1'].value_counts()) >= 10]\n",
    "\n",
    "# Encode the new_subtitle column\n",
    "label_encoder = LabelEncoder()\n",
    "df_cleaned['new_subtitle1_encoded'] = label_encoder.fit_transform(df_cleaned['new_subtitle1'])\n"
   ]
  },
  {
   "cell_type": "code",
   "execution_count": 153,
   "metadata": {
    "vscode": {
     "languageId": "ruby"
    }
   },
   "outputs": [],
   "source": [
    "def split_subtitle(subtitle):\n",
    "    parts = subtitle.split('•')\n",
    "    return parts[1] if len(parts) > 1 else ''\n",
    "\n",
    "df_cleaned['new_subtitle2'] = df_cleaned['subtitle'].apply(split_subtitle)\n",
    "df_cleaned['new_subtitle2'] = df_cleaned['new_subtitle2'].str.strip()\n",
    "\n",
    "\n",
    "# Encode the new_subtitle column\n",
    "df_cleaned['new_subtitle2_encoded'] = label_encoder.fit_transform(df_cleaned['new_subtitle2'])\n"
   ]
  },
  {
   "cell_type": "code",
   "execution_count": 154,
   "metadata": {},
   "outputs": [],
   "source": [
    "df_cleaned['mileage_per_year'] = df_cleaned['range'] / (2024 - df_cleaned['year'])"
   ]
  },
  {
   "cell_type": "code",
   "execution_count": 155,
   "metadata": {},
   "outputs": [
    {
     "name": "stdout",
     "output_type": "stream",
     "text": [
      "Mean Squared Error: 2646701.988554963\n",
      "Root Mean Squared Error: 1626.8687680802539\n",
      "Mean Absolute Percentage Error: 12.241516971493914\n",
      "R^2: 0.6852617344537364\n"
     ]
    }
   ],
   "source": [
    "X = df_cleaned[['year', 'range', 'kp', 'hp', 'dtp', 'new_subtitle1_encoded', 'mileage_per_year']]\n",
    "y = df_cleaned['price']\n",
    "\n",
    "# Split the data into training and testing sets\n",
    "X_train, X_test, y_train, y_test = train_test_split(X, y, test_size=0.2)\n",
    "\n",
    "# Create and train the model\n",
    "model = RandomForestRegressor(n_estimators=500)\n",
    "model.fit(X_train, y_train)\n",
    "\n",
    "# Make predictions\n",
    "y_pred = model.predict(X_test)\n",
    "\n",
    "# Evaluate the model\n",
    "mse = mean_squared_error(y_test, y_pred)\n",
    "rmse = np.sqrt(mse)\n",
    "r2 = model.score(X_test, y_test)\n",
    "mape = np.mean(np.abs((y_test - y_pred) / y_test)) * 100\n",
    "print(f'Mean Squared Error: {mse}')\n",
    "print(f'Root Mean Squared Error: {rmse}')\n",
    "print(f'Mean Absolute Percentage Error: {mape}')\n",
    "print(f'R^2: {r2}')"
   ]
  },
  {
   "cell_type": "code",
   "execution_count": 156,
   "metadata": {},
   "outputs": [
    {
     "data": {
      "text/plain": [
       "array([0.71171097, 0.09275274, 0.01826847, 0.06728032, 0.01347844,\n",
       "       0.01667153, 0.07983753])"
      ]
     },
     "execution_count": 156,
     "metadata": {},
     "output_type": "execute_result"
    }
   ],
   "source": [
    "model.feature_importances_"
   ]
  },
  {
   "cell_type": "code",
   "execution_count": 157,
   "metadata": {},
   "outputs": [
    {
     "name": "stdout",
     "output_type": "stream",
     "text": [
      "Cross-Validation Mean Squared Error: 2512393.1188795017\n",
      "Root Cross-Validation Mean Squared Error: 1585.053033459607\n"
     ]
    }
   ],
   "source": [
    "from sklearn.model_selection import cross_val_score\n",
    "\n",
    "# Perform cross-validation\n",
    "cv_scores = cross_val_score(model, X, y, cv=5, scoring='neg_mean_squared_error')\n",
    "\n",
    "# Convert negative MSE to positive\n",
    "cv_scores = -cv_scores\n",
    "\n",
    "# Calculate mean and standard deviation of the cross-validation scores\n",
    "mean_cv_score = np.mean(cv_scores)\n",
    "std_cv_score = np.std(cv_scores)\n",
    "\n",
    "print(f'Cross-Validation Mean Squared Error: {mean_cv_score}')\n",
    "print(f'Root Cross-Validation Mean Squared Error: {np.sqrt(mean_cv_score)}')"
   ]
  }
 ],
 "metadata": {
  "kernelspec": {
   "display_name": "venv",
   "language": "python",
   "name": "python3"
  },
  "language_info": {
   "codemirror_mode": {
    "name": "ipython",
    "version": 3
   },
   "file_extension": ".py",
   "mimetype": "text/x-python",
   "name": "python",
   "nbconvert_exporter": "python",
   "pygments_lexer": "ipython3",
   "version": "3.12.6"
  }
 },
 "nbformat": 4,
 "nbformat_minor": 2
}
